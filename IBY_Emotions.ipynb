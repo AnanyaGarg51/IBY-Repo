{
  "nbformat": 4,
  "nbformat_minor": 0,
  "metadata": {
    "colab": {
      "provenance": [],
      "authorship_tag": "ABX9TyOPSbLrPbh0shGnCF1UbTfd",
      "include_colab_link": true
    },
    "kernelspec": {
      "name": "python3",
      "display_name": "Python 3"
    },
    "language_info": {
      "name": "python"
    }
  },
  "cells": [
    {
      "cell_type": "markdown",
      "metadata": {
        "id": "view-in-github",
        "colab_type": "text"
      },
      "source": [
        "<a href=\"https://colab.research.google.com/github/AnanyaGarg51/IBY-Repo/blob/main/IBY_Emotions.ipynb\" target=\"_parent\"><img src=\"https://colab.research.google.com/assets/colab-badge.svg\" alt=\"Open In Colab\"/></a>"
      ]
    },
    {
      "cell_type": "markdown",
      "source": [
        "# EXPLORATORY DATA ANALYSIS: EMOTION DATASET\n",
        "* This is a concrete analysis on the Emotion dataset provided for each candidate, one at a time.\n",
        "I have implemented the codes on Colab notebooks, the Github links for the same have been attached in the Notion document.\n",
        "* This notebook is focussed on analyzing the outputs obtained from the codes in the form of visual representations and extracting useful decisions to help in the decision-making process.\n",
        "* The codes have been implementd in the Python language using libraries, namely- Pandas, Matplotlib and Seaborn."
      ],
      "metadata": {
        "id": "faq6deHKffjc"
      }
    },
    {
      "cell_type": "markdown",
      "source": [
        "**BASIC DATASET ANALYSIS**\n",
        "\n",
        "Pandas functions namely .info() and .head() have been used to get an idea of the type of data present in the give CSV files and its range and data types used."
      ],
      "metadata": {
        "id": "hMLjPcYsgstT"
      }
    },
    {
      "cell_type": "code",
      "execution_count": null,
      "metadata": {
        "id": "ptx6i2GYBFUJ"
      },
      "outputs": [],
      "source": [
        "# Import necessary libraries\n",
        "from google.colab import files\n",
        "import pandas as pd\n",
        "import matplotlib.pyplot as plt\n",
        "import seaborn as sns\n",
        "\n",
        "# Read the uploaded files into Pandas DataFrames\n",
        "emotion_df = pd.read_csv('/content/emotion (10).csv')\n",
        "gaze_df = pd.read_csv('/content/gaze (10).csv')\n",
        "metadata_df= pd.read_csv('/content/metadata (10).csv')\n",
        "\n",
        "# Preview the first few rows of each DataFrame to ensure they've loaded correctly\n",
        "print(\"Emotion Dataset Information:\")\n",
        "print(emotion_df.info())\n",
        "print(\"\\n\")\n",
        "print(\"Emotion Data:\")\n",
        "print(emotion_df.head())\n",
        "\n",
        "print(\"\\n\")\n",
        "print(\"\\n\")\n",
        "\n",
        "print(\"Gaze Dataset Information:\")\n",
        "print(gaze_df.info())\n",
        "print(\"\\n\")\n",
        "print(\"Gaze Data: \")\n",
        "print(gaze_df.head())"
      ]
    },
    {
      "cell_type": "markdown",
      "source": [
        "**DATASET STATISTICAL SUMMARY**\n"
      ],
      "metadata": {
        "id": "CIIFuHJmhNH2"
      }
    },
    {
      "cell_type": "code",
      "source": [
        "# Disable scientific notation in Pandas\n",
        "pd.set_option('display.float_format', lambda x: '%.6f' % x)\n",
        "\n",
        "# Now re-run the .describe() method to see the numbers in decimal format\n",
        "emotion_summary = emotion_df[['angry', 'disgust', 'fear', 'happy', 'sad', 'surprise', 'neutral']].describe()\n",
        "print(emotion_summary)\n"
      ],
      "metadata": {
        "id": "MDGLqgrOCBmZ"
      },
      "execution_count": null,
      "outputs": []
    },
    {
      "cell_type": "markdown",
      "source": [
        "**DOMINANT EMOTIONS**"
      ],
      "metadata": {
        "id": "ihXFeUSnwmIk"
      }
    },
    {
      "cell_type": "code",
      "source": [
        "# Plot the distribution of dominant emotions\n",
        "plt.figure(figsize=(10, 6))\n",
        "sns.countplot(data=emotion_df, x='dominant_emotion', palette='viridis')\n",
        "plt.title('Distribution of Dominant Emotions')\n",
        "plt.xlabel('Dominant Emotion')\n",
        "plt.ylabel('Count')\n",
        "plt.xticks(rotation=45)\n",
        "plt.show()\n",
        "\n",
        "# Analyze dominant emotions\n",
        "dominant_emotion_counts = emotion_df['dominant_emotion'].value_counts()\n",
        "plt.figure(figsize=(8, 6))\n",
        "dominant_emotion_counts.plot(kind='pie', autopct='%1.1f%%')\n",
        "plt.title('Distribution of Dominant Emotions')\n",
        "plt.ylabel('')\n",
        "plt.tight_layout()\n",
        "plt.show()"
      ],
      "metadata": {
        "id": "xooag5AUCElC"
      },
      "execution_count": null,
      "outputs": []
    },
    {
      "cell_type": "markdown",
      "source": [
        "**EVOLUTION OF EMOTIONS ACROSS DIFFERENT TIME FRAMES**"
      ],
      "metadata": {
        "id": "_7OsoiFowzDF"
      }
    },
    {
      "cell_type": "code",
      "source": [
        "import math\n",
        "\n",
        "# Step 1: Split the data into 3 parts: Initial, Middle, Ending\n",
        "total_rows = len(emotion_df)\n",
        "split_size = math.ceil(total_rows / 3)\n",
        "\n",
        "# Create labels for intervals\n",
        "emotion_df['time_interval'] = ['Initial'] * split_size + ['Middle'] * split_size + ['Ending'] * (total_rows - 2 * split_size)\n",
        "\n",
        "# Step 2: Group by time interval and dominant emotion\n",
        "grouped_df = emotion_df.groupby(['time_interval', 'dominant_emotion']).size().reset_index(name='count')\n",
        "\n",
        "# Step 3: Plot the distribution of dominant emotions across the three intervals\n",
        "plt.figure(figsize=(18, 6))\n",
        "\n",
        "# Initial\n",
        "plt.subplot(1, 3, 1)\n",
        "sns.barplot(data=grouped_df[grouped_df['time_interval'] == 'Initial'], x='dominant_emotion', y='count', palette='viridis')\n",
        "plt.title('Initial Time Interval')\n",
        "plt.xlabel('Dominant Emotion')\n",
        "plt.ylabel('Count')\n",
        "\n",
        "# Middle\n",
        "plt.subplot(1, 3, 2)\n",
        "sns.barplot(data=grouped_df[grouped_df['time_interval'] == 'Middle'], x='dominant_emotion', y='count', palette='viridis')\n",
        "plt.title('Middle Time Interval')\n",
        "plt.xlabel('Dominant Emotion')\n",
        "plt.ylabel('Count')\n",
        "\n",
        "# Ending\n",
        "plt.subplot(1, 3, 3)\n",
        "sns.barplot(data=grouped_df[grouped_df['time_interval'] == 'Ending'], x='dominant_emotion', y='count', palette='viridis')\n",
        "plt.title('Ending Time Interval')\n",
        "plt.xlabel('Dominant Emotion')\n",
        "plt.ylabel('Count')\n",
        "\n",
        "plt.tight_layout()\n",
        "plt.show()\n"
      ],
      "metadata": {
        "id": "yeFwt8vhgANl",
        "collapsed": true
      },
      "execution_count": null,
      "outputs": []
    },
    {
      "cell_type": "markdown",
      "source": [
        "**AVERAGE INTENSITY OF EMOTIONS**"
      ],
      "metadata": {
        "id": "2bklOBAgw6Vu"
      }
    },
    {
      "cell_type": "code",
      "source": [
        "# Calculate average intensity for each emotion\n",
        "emotion_averages = emotion_df[['angry', 'disgust', 'fear', 'happy', 'sad', 'surprise', 'neutral']].mean().sort_values(ascending=False)\n",
        "\n",
        "# Plot average emotion intensities\n",
        "plt.figure(figsize=(10, 6))\n",
        "sns.barplot(x=emotion_averages.index, y=emotion_averages.values)\n",
        "plt.title('Average Intensity of Emotions')\n",
        "plt.xlabel('Emotion')\n",
        "plt.ylabel('Average Intensity')\n",
        "plt.xticks(rotation=45)\n",
        "plt.show()\n",
        "\n",
        "print(\"Average Emotion Intensities:\")\n",
        "print(emotion_averages)\n",
        "\n",
        "# Calculate the total duration of the interview\n",
        "total_duration = metadata_df['elapsed_time'].max() - metadata_df['elapsed_time'].min()\n",
        "print(f\"\\\n",
        "Total interview duration: {total_duration:.2f} seconds\")"
      ],
      "metadata": {
        "id": "bNNGWcsz8ncu"
      },
      "execution_count": null,
      "outputs": []
    },
    {
      "cell_type": "markdown",
      "source": [
        "**GAZE ANALYSIS**"
      ],
      "metadata": {
        "id": "-r136d9Nw_oP"
      }
    },
    {
      "cell_type": "code",
      "source": [
        "# Plot the distribution of gaze\n",
        "plt.figure(figsize=(8, 6))\n",
        "sns.countplot(x='gaze', data=gaze_df)\n",
        "plt.title('Distribution of Gaze')\n",
        "plt.xlabel('Gaze (1 = Direct, 0 = Not Direct)')\n",
        "plt.ylabel('Count')\n",
        "plt.tight_layout()\n",
        "plt.show()\n",
        "\n",
        "# Plot the distribution of eye offset\n",
        "plt.figure(figsize=(10, 6))\n",
        "sns.histplot(gaze_df['eye_offset'], bins=20, kde=True)\n",
        "plt.title('Distribution of Eye Offset')\n",
        "plt.xlabel('Eye Offset')\n",
        "plt.ylabel('Frequency')\n",
        "plt.tight_layout()\n",
        "plt.show()\n",
        "\n",
        "# Plot eye offset over time\n",
        "plt.figure(figsize=(12, 6))\n",
        "plt.plot(gaze_df['image_seq'], gaze_df['eye_offset'], marker='o')\n",
        "plt.title('Eye Offset Over Time')\n",
        "plt.xlabel('Frame Sequence')\n",
        "plt.ylabel('Eye Offset')\n",
        "plt.tight_layout()\n",
        "plt.show()"
      ],
      "metadata": {
        "id": "TkCDpKEKDkkt"
      },
      "execution_count": null,
      "outputs": []
    },
    {
      "cell_type": "markdown",
      "source": [
        "**ANALYSIS OF EYE OFFSET**"
      ],
      "metadata": {
        "id": "yNkQ3O5jxD6b"
      }
    },
    {
      "cell_type": "code",
      "source": [
        "# Create a scatter plot of eye offset over time\n",
        "plt.figure(figsize=(10, 6))\n",
        "plt.scatter(gaze_df['image_seq'], gaze_df['eye_offset'])\n",
        "plt.title('Eye Offset Over Time')\n",
        "plt.xlabel('Frame Sequence')\n",
        "plt.ylabel('Eye Offset')\n",
        "plt.tight_layout()\n",
        "plt.show()\n",
        "\n",
        "# Calculate percentage of frames with gaze\n",
        "gaze_percentage = (gaze_df['gaze'].sum() / len(gaze_df)) * 100\n",
        "print(f\"Percentage of frames with direct gaze: {gaze_percentage:.2f}%\")\n",
        "\n",
        "# Calculate average eye offset\n",
        "avg_eye_offset = gaze_df['eye_offset'].mean()\n",
        "print(f\"Average eye offset: {avg_eye_offset:.2f}\")\n",
        "\n",
        "# Correlation between gaze and eye offset\n",
        "correlation = gaze_df['gaze'].corr(gaze_df['eye_offset'])\n",
        "print(f\"Correlation between gaze and eye offset: {correlation:.2f}\")"
      ],
      "metadata": {
        "id": "dkx2Qlj49298"
      },
      "execution_count": null,
      "outputs": []
    }
  ]
}