{
  "nbformat": 4,
  "nbformat_minor": 0,
  "metadata": {
    "colab": {
      "provenance": [],
      "authorship_tag": "ABX9TyOmfR42fDpWbFu7ZwjZixNL",
      "include_colab_link": true
    },
    "kernelspec": {
      "name": "python3",
      "display_name": "Python 3"
    },
    "language_info": {
      "name": "python"
    }
  },
  "cells": [
    {
      "cell_type": "markdown",
      "metadata": {
        "id": "view-in-github",
        "colab_type": "text"
      },
      "source": [
        "<a href=\"https://colab.research.google.com/github/AnanyaGarg51/IBY-Repo/blob/main/IBY_Transcript_Scores.ipynb\" target=\"_parent\"><img src=\"https://colab.research.google.com/assets/colab-badge.svg\" alt=\"Open In Colab\"/></a>"
      ]
    },
    {
      "cell_type": "markdown",
      "source": [
        "# EXPLORATORY DATA ANALYSIS: TRANSCRIPT_SCORES DATASET"
      ],
      "metadata": {
        "id": "MyedUfjtxVwx"
      }
    },
    {
      "cell_type": "markdown",
      "source": [
        "**BASIC DATASET ANALYSIS**"
      ],
      "metadata": {
        "id": "FHLog8lKxcwC"
      }
    },
    {
      "cell_type": "code",
      "execution_count": null,
      "metadata": {
        "id": "Nx5H9YsiyaNY"
      },
      "outputs": [],
      "source": [
        "# EDA on transcript_score dataset\n",
        "import pandas as pd\n",
        "import matplotlib.pyplot as plt\n",
        "import seaborn as sns\n",
        "\n",
        "# Mounting the input CSV file\n",
        "df = pd.read_csv('/content/1 (1).csv')\n",
        "\n",
        "# Display basic information about the dataset\n",
        "print(\"DATASET INFORMATION:\")\n",
        "print(df.info())\n",
        "\n",
        "print(\"\\n\")\n",
        "# Show the first few rows of the data\n",
        "print(\"FORMAT OF DATA PRESENT IN THE DATASET:\")\n",
        "print(df.head())\n",
        "\n",
        "print(\"\\n\")\n",
        "# Calculate summary statistics\n",
        "print(\"SUMMARY STATISTICS: \")\n",
        "print(df.describe())\n",
        "\n",
        "print(\"\\n\")\n",
        "# Calculate the average scores for key metrics\n",
        "avg_scores = df[['positive', 'negative', 'neutral', 'confident', 'hesitant', 'concise', 'enthusiastic', 'speech_speed']].mean()\n",
        "print(\"AVERAGE SCORES: \")\n",
        "print(avg_scores)\n",
        "\n",
        "print(\"\\n\")"
      ]
    },
    {
      "cell_type": "markdown",
      "source": [
        "**DISTRIBUTION OF KEY SENTIMENTS AND METRICS**"
      ],
      "metadata": {
        "id": "gBc93NsKxiAJ"
      }
    },
    {
      "cell_type": "code",
      "source": [
        "# Plot the distribution of key metrics\n",
        "print(\"BOXPLOT ANALYSIS OF CANDIDATE'S SENTIMENT AND COMMUNICATION METRICS\")\n",
        "plt.figure(figsize=(12, 8))\n",
        "sns.boxplot(data=df[['positive', 'negative', 'neutral', 'confident', 'hesitant', 'concise', 'enthusiastic']])\n",
        "plt.title(\"Distribution of Key Metrics\")\n",
        "plt.xticks(rotation=45)\n",
        "plt.tight_layout()\n",
        "plt.show()"
      ],
      "metadata": {
        "id": "dUfU3s9YRED3"
      },
      "execution_count": null,
      "outputs": []
    },
    {
      "cell_type": "markdown",
      "source": [
        "**SENTIMENT ANALYSIS**"
      ],
      "metadata": {
        "id": "Tqz-rADExqzq"
      }
    },
    {
      "cell_type": "code",
      "source": [
        "# Visualize the sentiment scores and other relevant attributes\n",
        "\n",
        "print(\"SENTIMENT ANALYSIS: \")\n",
        "fig, axes = plt.subplots(2, 3, figsize=(15, 10))\n",
        "\n",
        "# Plot positive sentiment\n",
        "sns.histplot(df['positive'], bins=10, kde=True, ax=axes[0, 0])\n",
        "axes[0, 0].set_title('Positive Sentiment')\n",
        "\n",
        "# Plot negative sentiment\n",
        "sns.histplot(df['negative'], bins=10, kde=True, ax=axes[0, 1])\n",
        "axes[0, 1].set_title('Negative Sentiment')\n",
        "\n",
        "# Plot neutral sentiment\n",
        "sns.histplot(df['neutral'], bins=10, kde=True, ax=axes[0, 2])\n",
        "axes[0, 2].set_title('Neutral Sentiment')\n",
        "\n",
        "# Plot confidence\n",
        "sns.histplot(df['confident'], bins=10, kde=True, ax=axes[1, 0])\n",
        "axes[1, 0].set_title('Confidence')\n",
        "\n",
        "# Plot enthusiasm\n",
        "sns.histplot(df['enthusiastic'], bins=10, kde=True, ax=axes[1, 1])\n",
        "axes[1, 1].set_title('Enthusiasm')\n",
        "\n",
        "# Plot conciseness\n",
        "sns.histplot(df['concise'], bins=10, kde=True, ax=axes[1, 2])\n",
        "axes[1, 2].set_title('Conciseness')\n",
        "\n",
        "plt.tight_layout()\n",
        "plt.show()"
      ],
      "metadata": {
        "id": "U_PE6DTBya2U"
      },
      "execution_count": null,
      "outputs": []
    },
    {
      "cell_type": "markdown",
      "source": [
        "**ANALYSIS OF 'POSITIVE', 'NEGATIVE', AND 'NEUTRAL' SENTIMENTS OVER SEQUENCES OF RESPONSES**"
      ],
      "metadata": {
        "id": "Fyva4Wxcxwrg"
      }
    },
    {
      "cell_type": "code",
      "source": [
        "# Plot sentiment values against the sequence of responses (id)\n",
        "fig, ax = plt.subplots(figsize=(12, 6))\n",
        "\n",
        "# Plot positive sentiment\n",
        "sns.lineplot(x='id', y='positive', data=df, label='Positive', ax=ax)\n",
        "\n",
        "# Plot negative sentiment\n",
        "sns.lineplot(x='id', y='negative', data=df, label='Negative', ax=ax)\n",
        "\n",
        "# Plot neutral sentiment\n",
        "sns.lineplot(x='id', y='neutral', data=df, label='Neutral', ax=ax)\n",
        "\n",
        "# Set plot title and labels\n",
        "ax.set_title('Sentiment Analysis Over Sequence of Responses')\n",
        "ax.set_xlabel('Response ID')\n",
        "ax.set_ylabel('Sentiment Value')\n",
        "\n",
        "# Show legend\n",
        "ax.legend()\n",
        "\n",
        "plt.show()"
      ],
      "metadata": {
        "id": "jMK6S1xz01hE"
      },
      "execution_count": null,
      "outputs": []
    },
    {
      "cell_type": "markdown",
      "source": [
        "**ANALYSIS OF 'ENTHUSIASTIC', 'CONCISE' AND 'CONFIDENT' ATTRIBUTES**"
      ],
      "metadata": {
        "id": "WUJFTZtUx8OA"
      }
    },
    {
      "cell_type": "code",
      "source": [
        "# Define the attributes we're interested in\n",
        "attributes = ['enthusiastic', 'concise', 'confident']\n",
        "\n",
        "# Calculate mean and standard error for each attribute\n",
        "mean_values = df[attributes].mean()\n",
        "se_values = df[attributes].sem()\n",
        "\n",
        "# Create a bar plot\n",
        "plt.figure(figsize=(10, 6))\n",
        "bars = plt.bar(attributes, mean_values, yerr=se_values, capsize=10, color=['#FFA07A', '#98FB98', '#87CEFA'])\n",
        "\n",
        "# Customize the plot\n",
        "plt.title('Average Levels of Key Attributes', fontsize=16)\n",
        "plt.ylabel('Score (0-1 scale)', fontsize=12)\n",
        "plt.ylim(0, 1)  # Set y-axis limit from 0 to 1\n",
        "plt.grid(axis='y', linestyle='--', alpha=0.7)\n",
        "\n",
        "# Add value labels on top of each bar\n",
        "for bar in bars:\n",
        "    height = bar.get_height()\n",
        "    plt.text(bar.get_x() + bar.get_width()/2., height,\n",
        "             f'{height:.2f}',\n",
        "             ha='center', va='bottom')\n",
        "\n",
        "# Add a horizontal line at 0.5 to indicate the midpoint\n",
        "plt.axhline(y=0.5, color='r', linestyle='--', alpha=0.5)\n",
        "plt.text(2.1, 0.51, 'Midpoint', color='r', va='bottom', ha='left')\n",
        "\n",
        "plt.tight_layout()\n",
        "plt.show()\n",
        "\n",
        "# Print the exact values for verification\n",
        "print(\"Mean Values:\")\n",
        "print(mean_values)\n",
        "print(\"\\\n",
        "Standard Errors:\")\n",
        "print(se_values)\n",
        "\n",
        "print(\"\\\n",
        "Done\")"
      ],
      "metadata": {
        "id": "w94VAjGZ05PM"
      },
      "execution_count": null,
      "outputs": []
    },
    {
      "cell_type": "markdown",
      "source": [
        "**SPEECH SPEED ANALYSIS**"
      ],
      "metadata": {
        "id": "XS4s4jTdyN2b"
      }
    },
    {
      "cell_type": "code",
      "source": [
        "# Calculate the average speech speed\n",
        "average_speech_speed = df['speech_speed'].mean()\n",
        "\n",
        "# Plot speech speed over time\n",
        "plt.figure(figsize=(12, 6))\n",
        "plt.plot(df['start'], df['speech_speed'], label='Speech Speed')\n",
        "plt.axhline(y=average_speech_speed, color='r', linestyle='--', label=f'Avg Speech Speed: {average_speech_speed:.2f}')\n",
        "plt.title(\"Speech Speed Over Time\")\n",
        "plt.xlabel(\"Time (seconds)\")\n",
        "plt.ylabel(\"Speech Speed\")\n",
        "plt.legend()\n",
        "plt.tight_layout()\n",
        "plt.show()\n",
        "\n",
        "average_speech_speed_rounded = round(average_speech_speed, 2)\n",
        "print(\"Candidate's Average Speech Speed: \")\n",
        "average_speech_speed_rounded"
      ],
      "metadata": {
        "id": "nB6xS2e1R43v"
      },
      "execution_count": null,
      "outputs": []
    }
  ]
}